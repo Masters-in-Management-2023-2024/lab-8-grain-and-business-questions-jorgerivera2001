{
  "cells": [
    {
      "cell_type": "markdown",
      "metadata": {
        "id": "iR8559zmrCqA"
      },
      "source": [
        "# Diamond Company Analytics Challenge\n",
        "\n",
        "**Time:** 35 minutes\n",
        "\n",
        "**Scenario:** You are the new data analyst at a prestigious diamond company. The CEO has called an urgent meeting and needs answers to critical business questions about the inventory.\n",
        "\n",
        "**Your Mission:** Analyze the diamond inventory data and provide insights to guide strategic decisions."
      ]
    },
    {
      "cell_type": "code",
      "execution_count": null,
      "metadata": {
        "id": "Ol6wllEirCqD"
      },
      "outputs": [],
      "source": [
        "import polars as pl\n",
        "\n",
        "# Load the diamonds dataset\n",
        "print(\"Loading diamonds dataset...\")\n",
        "df = pl.read_csv('https://raw.githubusercontent.com/pycaret/pycaret/master/datasets/diamond.csv')\n",
        "print(\"Dataset loaded successfully!\")"
      ]
    },
    {
      "cell_type": "markdown",
      "metadata": {
        "id": "fpEI6lsIrCqE"
      },
      "source": [
        "## Section 1: Initial Inventory Assessment (5 minutes)\n",
        "\n",
        "The CEO walks in: \"Before we dive into specifics, I need to understand what we're working with. Give me the basics about our inventory database.\""
      ]
    },
    {
      "cell_type": "markdown",
      "metadata": {
        "id": "7pRE0ZhDrCqE"
      },
      "source": [
        "### Question 1: \"How extensive is our inventory database?\"\n",
        "\n",
        "The CEO needs to know the scale of data you're analyzing."
      ]
    },
    {
      "cell_type": "code",
      "execution_count": 1,
      "metadata": {
        "colab": {
          "base_uri": "https://localhost:8080/"
        },
        "id": "RiiG4im3rCqF",
        "outputId": "dafb3666-185e-412c-c983-7e68c1a9414a"
      },
      "outputs": [
        {
          "output_type": "stream",
          "name": "stdout",
          "text": [
            "(6000, 8)\n"
          ]
        }
      ],
      "source": [
        "# Your code here:\n",
        "\n",
        "import polars as pl\n",
        "df = pl.read_csv('https://raw.githubusercontent.com/pycaret/pycaret/master/datasets/diamond.csv')\n",
        "print(df.shape)"
      ]
    },
    {
      "cell_type": "markdown",
      "metadata": {
        "id": "0qW0jxz-rCqF"
      },
      "source": [
        "### Question 2: \"What information do we track about each diamond?\"\n",
        "\n",
        "List all the characteristics we record."
      ]
    },
    {
      "cell_type": "code",
      "execution_count": 2,
      "metadata": {
        "colab": {
          "base_uri": "https://localhost:8080/"
        },
        "id": "QIykYdefrCqF",
        "outputId": "06401b64-4240-4449-fd92-838776f7b6a4"
      },
      "outputs": [
        {
          "output_type": "stream",
          "name": "stdout",
          "text": [
            "['Carat Weight', 'Cut', 'Color', 'Clarity', 'Polish', 'Symmetry', 'Report', 'Price']\n"
          ]
        }
      ],
      "source": [
        "# Your code here:\n",
        "print(df.columns)"
      ]
    },
    {
      "cell_type": "markdown",
      "metadata": {
        "id": "-6tduCA_rCqG"
      },
      "source": [
        "### Question 3: \"When I look at one line in this database, what am I looking at?\"\n",
        "\n",
        "Explain in business terms:"
      ]
    },
    {
      "cell_type": "markdown",
      "metadata": {
        "id": "ue1LnkserCqG"
      },
      "source": [
        "**Your answer:** Each row represents: A characteristic that can apply to the diamonds in the company's inventory."
      ]
    },
    {
      "cell_type": "markdown",
      "metadata": {
        "id": "z0wqZ2x3rCqG"
      },
      "source": [
        "## Section 2: Strategic Business Questions (20 minutes)\n",
        "\n",
        "The CEO continues: \"Now let's get to the important questions. Our board meeting is tomorrow and I need concrete numbers.\""
      ]
    },
    {
      "cell_type": "markdown",
      "metadata": {
        "id": "CU2QLaCprCqH"
      },
      "source": [
        "### Question 4: \"We're considering expanding our storage facilities. How many total carats do we have in inventory? I need to know if our vaults can handle the weight.\"\n",
        "\n",
        "Think about what measurement would help answer this."
      ]
    },
    {
      "cell_type": "code",
      "execution_count": 3,
      "metadata": {
        "colab": {
          "base_uri": "https://localhost:8080/",
          "height": 129
        },
        "id": "W1CQxYQHrCqH",
        "outputId": "133e8ae1-7cb6-40f7-c159-fb13d9016731"
      },
      "outputs": [
        {
          "output_type": "execute_result",
          "data": {
            "text/plain": [
              "shape: (1, 1)\n",
              "┌──────────────┐\n",
              "│ total_carats │\n",
              "│ ---          │\n",
              "│ f64          │\n",
              "╞══════════════╡\n",
              "│ 8007.12      │\n",
              "└──────────────┘"
            ],
            "text/html": [
              "<div><style>\n",
              ".dataframe > thead > tr,\n",
              ".dataframe > tbody > tr {\n",
              "  text-align: right;\n",
              "  white-space: pre-wrap;\n",
              "}\n",
              "</style>\n",
              "<small>shape: (1, 1)</small><table border=\"1\" class=\"dataframe\"><thead><tr><th>total_carats</th></tr><tr><td>f64</td></tr></thead><tbody><tr><td>8007.12</td></tr></tbody></table></div>"
            ]
          },
          "metadata": {},
          "execution_count": 3
        }
      ],
      "source": [
        "# Your code here:\n",
        "df.select(pl.col(\"Carat Weight\").sum().alias(\"total_carats\"))"
      ]
    },
    {
      "cell_type": "markdown",
      "metadata": {
        "id": "ZVGhqf64rCqH"
      },
      "source": [
        "### Question 5: \"Our new marketing campaign claims we have 'the widest variety of cuts in the industry.' Can you verify this?\"\n",
        "\n",
        "The CEO wants to know about variety, not quantity."
      ]
    },
    {
      "cell_type": "code",
      "execution_count": 4,
      "metadata": {
        "colab": {
          "base_uri": "https://localhost:8080/",
          "height": 129
        },
        "id": "QbkeC2XnrCqH",
        "outputId": "553e290a-1590-4a07-bd86-d91efe524fa5"
      },
      "outputs": [
        {
          "output_type": "execute_result",
          "data": {
            "text/plain": [
              "shape: (1, 2)\n",
              "┌───────────┬───────────┐\n",
              "│ max_price ┆ min_price │\n",
              "│ ---       ┆ ---       │\n",
              "│ i64       ┆ i64       │\n",
              "╞═══════════╪═══════════╡\n",
              "│ 101561    ┆ 2184      │\n",
              "└───────────┴───────────┘"
            ],
            "text/html": [
              "<div><style>\n",
              ".dataframe > thead > tr,\n",
              ".dataframe > tbody > tr {\n",
              "  text-align: right;\n",
              "  white-space: pre-wrap;\n",
              "}\n",
              "</style>\n",
              "<small>shape: (1, 2)</small><table border=\"1\" class=\"dataframe\"><thead><tr><th>max_price</th><th>min_price</th></tr><tr><td>i64</td><td>i64</td></tr></thead><tbody><tr><td>101561</td><td>2184</td></tr></tbody></table></div>"
            ]
          },
          "metadata": {},
          "execution_count": 4
        }
      ],
      "source": [
        "# Your code here:\n",
        "df.select([\n",
        "    pl.col(\"Price\").max().alias(\"max_price\"),\n",
        "    pl.col(\"Price\").min().alias(\"min_price\")\n",
        "])"
      ]
    },
    {
      "cell_type": "markdown",
      "metadata": {
        "id": "slV2czqxrCqH"
      },
      "source": [
        "### Question 6: \"I'm meeting with our insurance company. They need to know our price exposure - what's our most and least valuable diamond?\""
      ]
    },
    {
      "cell_type": "code",
      "execution_count": null,
      "metadata": {
        "id": "vtzu_JchrCqH"
      },
      "outputs": [],
      "source": [
        "# Your code here:\n"
      ]
    },
    {
      "cell_type": "markdown",
      "metadata": {
        "id": "QFa9uH_2rCqH"
      },
      "source": [
        "### Question 7: \"Which color grades should we focus on in our premium line? I need typical prices across our color spectrum.\"\n",
        "\n",
        "The CEO wants to understand pricing patterns."
      ]
    },
    {
      "cell_type": "code",
      "execution_count": 7,
      "metadata": {
        "colab": {
          "base_uri": "https://localhost:8080/",
          "height": 286
        },
        "id": "onvtC0B5rCqI",
        "outputId": "aa5eee83-89f5-40d3-ad51-628ca4d9462d"
      },
      "outputs": [
        {
          "output_type": "execute_result",
          "data": {
            "text/plain": [
              "shape: (6, 2)\n",
              "┌───────┬──────────────┐\n",
              "│ Color ┆ avg_price    │\n",
              "│ ---   ┆ ---          │\n",
              "│ str   ┆ f64          │\n",
              "╞═══════╪══════════════╡\n",
              "│ D     ┆ 15255.783661 │\n",
              "│ F     ┆ 12712.241856 │\n",
              "│ G     ┆ 12520.050633 │\n",
              "│ E     ┆ 11539.190231 │\n",
              "│ H     ┆ 10487.347544 │\n",
              "│ I     ┆ 8989.636364  │\n",
              "└───────┴──────────────┘"
            ],
            "text/html": [
              "<div><style>\n",
              ".dataframe > thead > tr,\n",
              ".dataframe > tbody > tr {\n",
              "  text-align: right;\n",
              "  white-space: pre-wrap;\n",
              "}\n",
              "</style>\n",
              "<small>shape: (6, 2)</small><table border=\"1\" class=\"dataframe\"><thead><tr><th>Color</th><th>avg_price</th></tr><tr><td>str</td><td>f64</td></tr></thead><tbody><tr><td>&quot;D&quot;</td><td>15255.783661</td></tr><tr><td>&quot;F&quot;</td><td>12712.241856</td></tr><tr><td>&quot;G&quot;</td><td>12520.050633</td></tr><tr><td>&quot;E&quot;</td><td>11539.190231</td></tr><tr><td>&quot;H&quot;</td><td>10487.347544</td></tr><tr><td>&quot;I&quot;</td><td>8989.636364</td></tr></tbody></table></div>"
            ]
          },
          "metadata": {},
          "execution_count": 7
        }
      ],
      "source": [
        "# Your code here:\n",
        "df.group_by(\"Color\").agg(\n",
        "    pl.col(\"Price\").mean().alias(\"avg_price\")\n",
        ").sort(\"avg_price\", descending=True)"
      ]
    },
    {
      "cell_type": "markdown",
      "metadata": {
        "id": "q4zi5qFHrCqI"
      },
      "source": [
        "**Reflection:** After analyzing by color, how has your view of the data changed? What does each row in your result represent now?"
      ]
    },
    {
      "cell_type": "markdown",
      "metadata": {
        "id": "S2GbCEGZrCqI"
      },
      "source": [
        "**Your answer:** New grain = Color Grade. Instead of looking at individual diamonds, the data shows the average price for that specific color grade, giving a clear picture of how prices vary across the different diamond colors in the inventory."
      ]
    },
    {
      "cell_type": "markdown",
      "metadata": {
        "id": "ywwDKJcNrCqI"
      },
      "source": [
        "## Section 3: Advanced Strategic Analysis (10 minutes)\n",
        "\n",
        "The CEO leans forward: \"These next questions will shape our strategy for next year.\""
      ]
    },
    {
      "cell_type": "markdown",
      "metadata": {
        "id": "s4OllJSgrCqI"
      },
      "source": [
        "### Question 8: \"We're thinking of specializing in certain clarity grades. For our investor deck, I need a complete breakdown showing: how many diamonds we have in each clarity grade, their typical price, and the total carats we're holding for each grade.\""
      ]
    },
    {
      "cell_type": "code",
      "execution_count": 10,
      "metadata": {
        "colab": {
          "base_uri": "https://localhost:8080/",
          "height": 353
        },
        "id": "VEvPoNhnrCqI",
        "outputId": "34a239b5-32e1-4e37-ca2e-d8488df56210"
      },
      "outputs": [
        {
          "output_type": "stream",
          "name": "stderr",
          "text": [
            "/tmp/ipython-input-3187684744.py:3: DeprecationWarning: `pl.count()` is deprecated. Please use `pl.len()` instead.\n",
            "  pl.count().alias(\"diamond_count\"),\n"
          ]
        },
        {
          "output_type": "execute_result",
          "data": {
            "text/plain": [
              "shape: (7, 4)\n",
              "┌─────────┬───────────────┬──────────────┬──────────────┐\n",
              "│ Clarity ┆ diamond_count ┆ avg_price    ┆ total_carats │\n",
              "│ ---     ┆ ---           ┆ ---          ┆ ---          │\n",
              "│ str     ┆ u32           ┆ f64          ┆ f64          │\n",
              "╞═════════╪═══════════════╪══════════════╪══════════════╡\n",
              "│ FL      ┆ 4             ┆ 63776.0      ┆ 7.87         │\n",
              "│ IF      ┆ 219           ┆ 22105.844749 ┆ 316.0        │\n",
              "│ VVS1    ┆ 285           ┆ 16845.680702 ┆ 389.43       │\n",
              "│ VVS2    ┆ 666           ┆ 14142.177177 ┆ 876.58       │\n",
              "│ VS1     ┆ 1192          ┆ 13694.113255 ┆ 1682.74      │\n",
              "│ VS2     ┆ 1575          ┆ 11809.053333 ┆ 2170.81      │\n",
              "│ SI1     ┆ 2059          ┆ 8018.864012  ┆ 2563.69      │\n",
              "└─────────┴───────────────┴──────────────┴──────────────┘"
            ],
            "text/html": [
              "<div><style>\n",
              ".dataframe > thead > tr,\n",
              ".dataframe > tbody > tr {\n",
              "  text-align: right;\n",
              "  white-space: pre-wrap;\n",
              "}\n",
              "</style>\n",
              "<small>shape: (7, 4)</small><table border=\"1\" class=\"dataframe\"><thead><tr><th>Clarity</th><th>diamond_count</th><th>avg_price</th><th>total_carats</th></tr><tr><td>str</td><td>u32</td><td>f64</td><td>f64</td></tr></thead><tbody><tr><td>&quot;FL&quot;</td><td>4</td><td>63776.0</td><td>7.87</td></tr><tr><td>&quot;IF&quot;</td><td>219</td><td>22105.844749</td><td>316.0</td></tr><tr><td>&quot;VVS1&quot;</td><td>285</td><td>16845.680702</td><td>389.43</td></tr><tr><td>&quot;VVS2&quot;</td><td>666</td><td>14142.177177</td><td>876.58</td></tr><tr><td>&quot;VS1&quot;</td><td>1192</td><td>13694.113255</td><td>1682.74</td></tr><tr><td>&quot;VS2&quot;</td><td>1575</td><td>11809.053333</td><td>2170.81</td></tr><tr><td>&quot;SI1&quot;</td><td>2059</td><td>8018.864012</td><td>2563.69</td></tr></tbody></table></div>"
            ]
          },
          "metadata": {},
          "execution_count": 10
        }
      ],
      "source": [
        "# Your code here:\n",
        "df.group_by(\"Clarity\").agg([\n",
        "    pl.count().alias(\"diamond_count\"),\n",
        "    pl.col(\"Price\").mean().alias(\"avg_price\"),\n",
        "    pl.col(\"Carat Weight\").sum().alias(\"total_carats\")\n",
        "]).sort(\"avg_price\",descending=True)"
      ]
    },
    {
      "cell_type": "markdown",
      "metadata": {
        "id": "_t8g4roVrCqI"
      },
      "source": [
        "### Question 9: \"My luxury competitor claims they have the best prices for every cut-color combination. Show me our pricing structure across these combinations - I want to see where we're competitive.\""
      ]
    },
    {
      "cell_type": "code",
      "execution_count": 11,
      "metadata": {
        "colab": {
          "base_uri": "https://localhost:8080/",
          "height": 443
        },
        "id": "IJ8pvXy1rCqI",
        "outputId": "735a46a4-c78e-4067-997e-b4fa4cce47da"
      },
      "outputs": [
        {
          "output_type": "execute_result",
          "data": {
            "text/plain": [
              "shape: (30, 3)\n",
              "┌───────────┬───────┬──────────────┐\n",
              "│ Cut       ┆ Color ┆ avg_price    │\n",
              "│ ---       ┆ ---   ┆ ---          │\n",
              "│ str       ┆ str   ┆ f64          │\n",
              "╞═══════════╪═══════╪══════════════╡\n",
              "│ Fair      ┆ G     ┆ 7345.52381   │\n",
              "│ Fair      ┆ F     ┆ 6063.625     │\n",
              "│ Fair      ┆ D     ┆ 6058.25      │\n",
              "│ Fair      ┆ H     ┆ 5908.5       │\n",
              "│ Fair      ┆ E     ┆ 5370.625     │\n",
              "│ …         ┆ …     ┆ …            │\n",
              "│ Very Good ┆ F     ┆ 12413.905495 │\n",
              "│ Very Good ┆ G     ┆ 12354.013841 │\n",
              "│ Very Good ┆ E     ┆ 12101.910217 │\n",
              "│ Very Good ┆ H     ┆ 10056.106132 │\n",
              "│ Very Good ┆ I     ┆ 8930.031332  │\n",
              "└───────────┴───────┴──────────────┘"
            ],
            "text/html": [
              "<div><style>\n",
              ".dataframe > thead > tr,\n",
              ".dataframe > tbody > tr {\n",
              "  text-align: right;\n",
              "  white-space: pre-wrap;\n",
              "}\n",
              "</style>\n",
              "<small>shape: (30, 3)</small><table border=\"1\" class=\"dataframe\"><thead><tr><th>Cut</th><th>Color</th><th>avg_price</th></tr><tr><td>str</td><td>str</td><td>f64</td></tr></thead><tbody><tr><td>&quot;Fair&quot;</td><td>&quot;G&quot;</td><td>7345.52381</td></tr><tr><td>&quot;Fair&quot;</td><td>&quot;F&quot;</td><td>6063.625</td></tr><tr><td>&quot;Fair&quot;</td><td>&quot;D&quot;</td><td>6058.25</td></tr><tr><td>&quot;Fair&quot;</td><td>&quot;H&quot;</td><td>5908.5</td></tr><tr><td>&quot;Fair&quot;</td><td>&quot;E&quot;</td><td>5370.625</td></tr><tr><td>&hellip;</td><td>&hellip;</td><td>&hellip;</td></tr><tr><td>&quot;Very Good&quot;</td><td>&quot;F&quot;</td><td>12413.905495</td></tr><tr><td>&quot;Very Good&quot;</td><td>&quot;G&quot;</td><td>12354.013841</td></tr><tr><td>&quot;Very Good&quot;</td><td>&quot;E&quot;</td><td>12101.910217</td></tr><tr><td>&quot;Very Good&quot;</td><td>&quot;H&quot;</td><td>10056.106132</td></tr><tr><td>&quot;Very Good&quot;</td><td>&quot;I&quot;</td><td>8930.031332</td></tr></tbody></table></div>"
            ]
          },
          "metadata": {},
          "execution_count": 11
        }
      ],
      "source": [
        "# Your code here:\n",
        "df.group_by([\"Cut\", \"Color\"]).agg(\n",
        "    pl.col(\"Price\").mean().alias(\"avg_price\")\n",
        ").sort([\"Cut\", \"avg_price\"], descending=[False, True])"
      ]
    },
    {
      "cell_type": "markdown",
      "metadata": {
        "id": "YWus6GX5rCqI"
      },
      "source": [
        "**Reflection:** How specific is your analysis now? What level of detail does each row represent?"
      ]
    },
    {
      "cell_type": "markdown",
      "metadata": {
        "id": "6LjS7xNwrCqI"
      },
      "source": [
        "**Your answer:** New grain ="
      ]
    },
    {
      "cell_type": "markdown",
      "metadata": {
        "id": "hweL39GUrCqI"
      },
      "source": [
        "### Question 10: URGENT - \"Our biggest client is interested in purchasing entire inventory segments. They asked: 'Which color-cut combinations represent your highest total inventory value?' Show me the top 5 most valuable inventory segments by total worth, and include how many diamonds are in each segment.\"\n",
        "\n",
        "This is critical for tomorrow's negotiation."
      ]
    },
    {
      "cell_type": "code",
      "execution_count": 18,
      "metadata": {
        "colab": {
          "base_uri": "https://localhost:8080/",
          "height": 255
        },
        "id": "Q1Y4H-parCqJ",
        "outputId": "b9058013-5781-43ed-efb0-35cc8c115228"
      },
      "outputs": [
        {
          "output_type": "execute_result",
          "data": {
            "text/plain": [
              "shape: (5, 4)\n",
              "┌───────┬───────────┬─────────────┬───────────────┐\n",
              "│ Color ┆ Cut       ┆ total_value ┆ diamond_count │\n",
              "│ ---   ┆ ---       ┆ ---         ┆ ---           │\n",
              "│ str   ┆ str       ┆ i64         ┆ u32           │\n",
              "╞═══════╪═══════════╪═════════════╪═══════════════╡\n",
              "│ G     ┆ Ideal     ┆ 9363514     ┆ 690           │\n",
              "│ G     ┆ Very Good ┆ 7140620     ┆ 578           │\n",
              "│ F     ┆ Very Good ┆ 5648327     ┆ 455           │\n",
              "│ F     ┆ Ideal     ┆ 5346782     ┆ 363           │\n",
              "│ H     ┆ Ideal     ┆ 5279687     ┆ 458           │\n",
              "└───────┴───────────┴─────────────┴───────────────┘"
            ],
            "text/html": [
              "<div><style>\n",
              ".dataframe > thead > tr,\n",
              ".dataframe > tbody > tr {\n",
              "  text-align: right;\n",
              "  white-space: pre-wrap;\n",
              "}\n",
              "</style>\n",
              "<small>shape: (5, 4)</small><table border=\"1\" class=\"dataframe\"><thead><tr><th>Color</th><th>Cut</th><th>total_value</th><th>diamond_count</th></tr><tr><td>str</td><td>str</td><td>i64</td><td>u32</td></tr></thead><tbody><tr><td>&quot;G&quot;</td><td>&quot;Ideal&quot;</td><td>9363514</td><td>690</td></tr><tr><td>&quot;G&quot;</td><td>&quot;Very Good&quot;</td><td>7140620</td><td>578</td></tr><tr><td>&quot;F&quot;</td><td>&quot;Very Good&quot;</td><td>5648327</td><td>455</td></tr><tr><td>&quot;F&quot;</td><td>&quot;Ideal&quot;</td><td>5346782</td><td>363</td></tr><tr><td>&quot;H&quot;</td><td>&quot;Ideal&quot;</td><td>5279687</td><td>458</td></tr></tbody></table></div>"
            ]
          },
          "metadata": {},
          "execution_count": 18
        }
      ],
      "source": [
        "# Your code here:\n",
        "df.group_by([\"Color\", \"Cut\"]).agg([\n",
        "    pl.col(\"Price\").sum().alias(\"total_value\"),\n",
        "    pl.len().alias(\"diamond_count\")\n",
        "]).sort(\"total_value\", descending=True).head(5)"
      ]
    },
    {
      "cell_type": "markdown",
      "metadata": {
        "id": "Qj62VdTBrCqJ"
      },
      "source": [
        "## Debrief\n",
        "\n",
        "Congratulations! You've just completed your first day as the diamond company's data analyst.\n",
        "\n",
        "Remember:\n",
        "- CEOs speak in business language, not technical terms\n",
        "- Always understand what each row represents before analyzing\n",
        "- Business questions contain clues about which operations to use"
      ]
    }
  ],
  "metadata": {
    "kernelspec": {
      "display_name": "Python 3",
      "language": "python",
      "name": "python3"
    },
    "language_info": {
      "codemirror_mode": {
        "name": "ipython",
        "version": 3
      },
      "file_extension": ".py",
      "mimetype": "text/x-python",
      "name": "python",
      "nbconvert_exporter": "python",
      "pygments_lexer": "ipython3",
      "version": "3.12.0"
    },
    "colab": {
      "provenance": []
    }
  },
  "nbformat": 4,
  "nbformat_minor": 0
}